{
  "nbformat": 4,
  "nbformat_minor": 0,
  "metadata": {
    "colab": {
      "name": "MNISTFashion_ANN.ipynb",
      "provenance": [],
      "collapsed_sections": [
        "rjzO0Dpn5b-H",
        "6RB4_ki1-BVb",
        "w9aUqaF2-Iu2"
      ],
      "toc_visible": true,
      "authorship_tag": "ABX9TyPL0mV8Vh+Vldil60Az/CEe",
      "include_colab_link": true
    },
    "kernelspec": {
      "name": "python3",
      "display_name": "Python 3"
    }
  },
  "cells": [
    {
      "cell_type": "markdown",
      "metadata": {
        "id": "view-in-github",
        "colab_type": "text"
      },
      "source": [
        "<a href=\"https://colab.research.google.com/github/AustinAlgebra/MNISTFashion_ANN/blob/main/MNISTFashion_ANN.ipynb\" target=\"_parent\"><img src=\"https://colab.research.google.com/assets/colab-badge.svg\" alt=\"Open In Colab\"/></a>"
      ]
    },
    {
      "cell_type": "markdown",
      "metadata": {
        "id": "rjzO0Dpn5b-H"
      },
      "source": [
        "# Introduction\n",
        "\n",
        "from [zalandoresearch on GitHub](https://github.com/zalandoresearch/fashion-mnist):\n",
        "\n",
        "Fashion-MNIST is a dataset of Zalando's article images—consisting of a training set of 60,000 examples and a test set of 10,000 examples. Each example is a 28x28 grayscale image, associated with a label from 10 classes. We intend Fashion-MNIST to serve as a direct drop-in replacement for the original MNIST dataset for benchmarking machine learning algorithms. It shares the same image size and structure of training and testing splits.\n",
        "\n",
        "\n",
        "---\n",
        "\n",
        "\n",
        "\n",
        "My goal with this dataset is to explore some different parameters of Artificial Neural Networks (ANNs) and see what kinds of accuracy scores I can achieve.\n",
        "\n",
        "\n"
      ]
    },
    {
      "cell_type": "code",
      "metadata": {
        "cellView": "form",
        "id": "tGlo4eZMfe-h"
      },
      "source": [
        "#@title\n",
        "# May need to install tensorflow\n",
        "#!pip install tensorflow-gpu==2.0.0-rc1"
      ],
      "execution_count": null,
      "outputs": []
    },
    {
      "cell_type": "code",
      "metadata": {
        "id": "i8QUgSYOdYdq"
      },
      "source": [
        "# Using this to show images\n",
        "from PIL import Image\n",
        "\n",
        "# The Usual Suspects\n",
        "import pandas as pd\n",
        "import numpy as np\n",
        "from numpy import asarray\n",
        "import matplotlib.pyplot as plt\n",
        "\n",
        "# Will be comparing runtime as we go\n",
        "import time\n",
        "\n",
        "# Tensorflow / Keras packages\n",
        "from tensorflow.keras.utils import to_categorical\n",
        "from tensorflow.keras.models import Sequential \n",
        "from tensorflow.keras.layers import Dense\n",
        "from tensorflow.keras.datasets import fashion_mnist\n",
        "\n",
        "import warnings\n",
        "warnings.filterwarnings(\"ignore\")"
      ],
      "execution_count": null,
      "outputs": []
    },
    {
      "cell_type": "markdown",
      "metadata": {
        "id": "6RB4_ki1-BVb"
      },
      "source": [
        "# Loading the Images"
      ]
    },
    {
      "cell_type": "code",
      "metadata": {
        "id": "XzWZKdxadVfC",
        "colab": {
          "base_uri": "https://localhost:8080/"
        },
        "outputId": "2c43e4ce-68e5-451e-fc9a-afebb58db647"
      },
      "source": [
        "# Loading the Fashion MNIST with Keras\n",
        "(x_train, y_train),(x_test, y_test) = fashion_mnist.load_data()"
      ],
      "execution_count": null,
      "outputs": [
        {
          "output_type": "stream",
          "text": [
            "Downloading data from https://storage.googleapis.com/tensorflow/tf-keras-datasets/train-labels-idx1-ubyte.gz\n",
            "32768/29515 [=================================] - 0s 0us/step\n",
            "Downloading data from https://storage.googleapis.com/tensorflow/tf-keras-datasets/train-images-idx3-ubyte.gz\n",
            "26427392/26421880 [==============================] - 0s 0us/step\n",
            "Downloading data from https://storage.googleapis.com/tensorflow/tf-keras-datasets/t10k-labels-idx1-ubyte.gz\n",
            "8192/5148 [===============================================] - 0s 0us/step\n",
            "Downloading data from https://storage.googleapis.com/tensorflow/tf-keras-datasets/t10k-images-idx3-ubyte.gz\n",
            "4423680/4422102 [==============================] - 0s 0us/step\n"
          ],
          "name": "stdout"
        }
      ]
    },
    {
      "cell_type": "code",
      "metadata": {
        "colab": {
          "base_uri": "https://localhost:8080/"
        },
        "id": "06Og2eV7gABa",
        "outputId": "36718317-7a5c-4a0c-8019-431820ec2356"
      },
      "source": [
        "# Let's see what kind of data we are working with\n",
        "print(f'Data type: {type(x_train)}')\n",
        "print(f'Data dimensions: {x_train.shape}')"
      ],
      "execution_count": null,
      "outputs": [
        {
          "output_type": "stream",
          "text": [
            "Data type: <class 'numpy.ndarray'>\n",
            "Data dimensions: (60000, 28, 28)\n"
          ],
          "name": "stdout"
        }
      ]
    },
    {
      "cell_type": "code",
      "metadata": {
        "id": "fO91d_-3j48P"
      },
      "source": [
        "# Create a function to process and reshape the data\n",
        "def ReshapeImages(X):\n",
        "  rows = X.shape[0]\n",
        "  columns = X.shape[1]*X.shape[2]\n",
        "  X = X.reshape(rows, columns)\n",
        "  X = X.astype('float32')\n",
        "  X = X/255.0\n",
        "  return X"
      ],
      "execution_count": null,
      "outputs": []
    },
    {
      "cell_type": "code",
      "metadata": {
        "id": "9ocvz7rwiJU9"
      },
      "source": [
        "X_train = ReshapeImages(x_train)\n",
        "X_test = ReshapeImages(x_test)"
      ],
      "execution_count": null,
      "outputs": []
    },
    {
      "cell_type": "code",
      "metadata": {
        "colab": {
          "base_uri": "https://localhost:8080/"
        },
        "id": "jDertx4Fm5Hq",
        "outputId": "b79efb1d-fd1b-4601-cfcf-1a54f2c7d667"
      },
      "source": [
        "pd.DataFrame(y_train).value_counts()"
      ],
      "execution_count": null,
      "outputs": [
        {
          "output_type": "execute_result",
          "data": {
            "text/plain": [
              "9    6000\n",
              "8    6000\n",
              "7    6000\n",
              "6    6000\n",
              "5    6000\n",
              "4    6000\n",
              "3    6000\n",
              "2    6000\n",
              "1    6000\n",
              "0    6000\n",
              "dtype: int64"
            ]
          },
          "metadata": {
            "tags": []
          },
          "execution_count": 7
        }
      ]
    },
    {
      "cell_type": "code",
      "metadata": {
        "colab": {
          "base_uri": "https://localhost:8080/"
        },
        "id": "duCh7-L0zCiC",
        "outputId": "2aac6f71-6096-4d48-d35a-b8613ef4488a"
      },
      "source": [
        "pd.DataFrame(y_test).value_counts()"
      ],
      "execution_count": null,
      "outputs": [
        {
          "output_type": "execute_result",
          "data": {
            "text/plain": [
              "9    1000\n",
              "8    1000\n",
              "7    1000\n",
              "6    1000\n",
              "5    1000\n",
              "4    1000\n",
              "3    1000\n",
              "2    1000\n",
              "1    1000\n",
              "0    1000\n",
              "dtype: int64"
            ]
          },
          "metadata": {
            "tags": []
          },
          "execution_count": 8
        }
      ]
    },
    {
      "cell_type": "markdown",
      "metadata": {
        "id": "w9aUqaF2-Iu2"
      },
      "source": [
        "## Viewing Some Images"
      ]
    },
    {
      "cell_type": "code",
      "metadata": {
        "colab": {
          "base_uri": "https://localhost:8080/",
          "height": 591
        },
        "id": "DPawmj8mzH_B",
        "outputId": "0689311e-d097-4b1d-d32a-beb33a1ed7ac"
      },
      "source": [
        "plt.figure(figsize=(20,10))\n",
        "\n",
        "for i in range (0,12):\n",
        "  plt.subplot(4,3,i+1)\n",
        "  index = np.random.randint(0, X_train.shape[0], 12)\n",
        "  plt.imshow(np.array(X_train[index[i]]).reshape(28,28), cmap=\"gray\")\n",
        "  plt.tick_params(\n",
        "    axis='both',       # changes apply to the x-axis\n",
        "    which='both',      # both major and minor ticks are affected\n",
        "    bottom=False,      # ticks along the bottom edge are off\n",
        "    top=False,         # ticks along the top edge are off\n",
        "    left=False,        # Remove left ticks\n",
        "    right=False,       # Remove right ticks\n",
        "    labelleft=False,   # Remove labels along left axis\n",
        "    labelbottom=False) # labels along the bottom edge are off\n",
        "  plt.title(f\"Index: {index[i]}, Value: {y_train[index[i]]}\")\n",
        "\n",
        "plt.show()"
      ],
      "execution_count": null,
      "outputs": [
        {
          "output_type": "display_data",
          "data": {
            "image/png": "[encoded data removed]",
            "text/plain": [
              "<Figure size 1440x720 with 12 Axes>"
            ]
          },
          "metadata": {
            "tags": []
          }
        }
      ]
    },
    {
      "cell_type": "markdown",
      "metadata": {
        "id": "XAKFcNLw0ZhE"
      },
      "source": [
        "|Label\t|Description |\n",
        "|---|---|\n",
        "0\t|T-shirt/top\n",
        "1\t|Trouser\n",
        "2\t|Pullover\n",
        "3\t|Dress\n",
        "4\t|Coat\n",
        "5\t|Sandal\n",
        "6\t|Shirt\n",
        "7\t|Sneaker\n",
        "8\t|Bag\n",
        "9\t|Ankle boot"
      ]
    },
    {
      "cell_type": "markdown",
      "metadata": {
        "id": "ZJBPs1oz-PKE"
      },
      "source": [
        "# Running ANNs"
      ]
    },
    {
      "cell_type": "code",
      "metadata": {
        "id": "CI7SqciWFFOg"
      },
      "source": [
        "from tensorflow.keras.utils import to_categorical\n",
        "\n",
        "output_dim = nb_classes = 10\n",
        "batch_size = 128\n",
        "\n",
        "Y_train = to_categorical(y_train, nb_classes)\n",
        "Y_test = to_categorical(y_test, nb_classes)"
      ],
      "execution_count": null,
      "outputs": []
    },
    {
      "cell_type": "markdown",
      "metadata": {
        "id": "2KXpzBIZFe9t"
      },
      "source": [
        "### Baseline: Learning Rate = | Batch Size = 128 | Loss Function = CrossEntropy || ReLU - 32 | ReLU - 16 | Softmax - 10"
      ]
    },
    {
      "cell_type": "code",
      "metadata": {
        "id": "647INfF83isT",
        "colab": {
          "base_uri": "https://localhost:8080/"
        },
        "outputId": "76b680bc-9b5b-4a5b-d8d6-bfd00f9ab4a5"
      },
      "source": [
        "model = Sequential()\n",
        "# The first dense layer\n",
        "model.add(Dense(32, input_shape=(784,), activation=\"relu\"))\n",
        "# The second dense layer\n",
        "model.add(Dense(16, activation=\"relu\"))\n",
        "# The last layer is the output layer\n",
        "model.add(Dense(10, activation=\"softmax\"))\n",
        "\n",
        "model.compile(optimizer='sgd', loss='categorical_crossentropy',\n",
        "              metrics=['accuracy'])\n",
        "\n",
        "# Setting `verbose=1` prints out some results after each epoch\n",
        "model.fit(X_train, Y_train, batch_size=128, epochs=20, verbose=1)"
      ],
      "execution_count": null,
      "outputs": [
        {
          "output_type": "stream",
          "text": [
            "Epoch 1/20\n",
            "469/469 [==============================] - 1s 2ms/step - loss: 1.8237 - accuracy: 0.3512\n",
            "Epoch 2/20\n",
            "469/469 [==============================] - 1s 2ms/step - loss: 0.8333 - accuracy: 0.7291\n",
            "Epoch 3/20\n",
            "469/469 [==============================] - 1s 2ms/step - loss: 0.6695 - accuracy: 0.7703\n",
            "Epoch 4/20\n",
            "469/469 [==============================] - 1s 2ms/step - loss: 0.6068 - accuracy: 0.7928\n",
            "Epoch 5/20\n",
            "469/469 [==============================] - 1s 2ms/step - loss: 0.5526 - accuracy: 0.8115\n",
            "Epoch 6/20\n",
            "469/469 [==============================] - 1s 2ms/step - loss: 0.5304 - accuracy: 0.8166\n",
            "Epoch 7/20\n",
            "469/469 [==============================] - 1s 2ms/step - loss: 0.5125 - accuracy: 0.8220\n",
            "Epoch 8/20\n",
            "469/469 [==============================] - 1s 2ms/step - loss: 0.4984 - accuracy: 0.8284\n",
            "Epoch 9/20\n",
            "469/469 [==============================] - 1s 2ms/step - loss: 0.4839 - accuracy: 0.8314\n",
            "Epoch 10/20\n",
            "469/469 [==============================] - 1s 2ms/step - loss: 0.4819 - accuracy: 0.8317\n",
            "Epoch 11/20\n",
            "469/469 [==============================] - 1s 2ms/step - loss: 0.4704 - accuracy: 0.8360\n",
            "Epoch 12/20\n",
            "469/469 [==============================] - 1s 2ms/step - loss: 0.4586 - accuracy: 0.8397\n",
            "Epoch 13/20\n",
            "469/469 [==============================] - 1s 2ms/step - loss: 0.4514 - accuracy: 0.8431\n",
            "Epoch 14/20\n",
            "469/469 [==============================] - 1s 2ms/step - loss: 0.4486 - accuracy: 0.8435\n",
            "Epoch 15/20\n",
            "469/469 [==============================] - 1s 2ms/step - loss: 0.4398 - accuracy: 0.8460\n",
            "Epoch 16/20\n",
            "469/469 [==============================] - 1s 2ms/step - loss: 0.4373 - accuracy: 0.8469\n",
            "Epoch 17/20\n",
            "469/469 [==============================] - 1s 2ms/step - loss: 0.4332 - accuracy: 0.8475\n",
            "Epoch 18/20\n",
            "469/469 [==============================] - 1s 2ms/step - loss: 0.4252 - accuracy: 0.8495\n",
            "Epoch 19/20\n",
            "469/469 [==============================] - 1s 2ms/step - loss: 0.4234 - accuracy: 0.8512\n",
            "Epoch 20/20\n",
            "469/469 [==============================] - 1s 2ms/step - loss: 0.4192 - accuracy: 0.8528\n"
          ],
          "name": "stdout"
        },
        {
          "output_type": "execute_result",
          "data": {
            "text/plain": [
              "<tensorflow.python.keras.callbacks.History at 0x7f35f9c58748>"
            ]
          },
          "metadata": {
            "tags": []
          },
          "execution_count": 13
        }
      ]
    },
    {
      "cell_type": "code",
      "metadata": {
        "colab": {
          "base_uri": "https://localhost:8080/"
        },
        "id": "cvRzCrmA32Yc",
        "outputId": "7f8061af-ce01-49c3-9fb9-17f7ef495375"
      },
      "source": [
        "score = model.evaluate(X_test, Y_test, verbose=0)\n",
        "print('Test score:', score[0])\n",
        "print('Test accuracy:', score[1])"
      ],
      "execution_count": null,
      "outputs": [
        {
          "output_type": "stream",
          "text": [
            "Test score: 0.4635976552963257\n",
            "Test accuracy: 0.8346999883651733\n"
          ],
          "name": "stdout"
        }
      ]
    },
    {
      "cell_type": "markdown",
      "metadata": {
        "id": "cwXGe5sBCqOd"
      },
      "source": [
        "* Training score: 0.8528\r\n",
        "* Test score: 0.4554731845855713\r\n",
        "* Test accuracy: 0.840499997138977"
      ]
    },
    {
      "cell_type": "markdown",
      "metadata": {
        "id": "UCvaSa2fGN52"
      },
      "source": [
        "## Number of Layers"
      ]
    },
    {
      "cell_type": "markdown",
      "metadata": {
        "id": "Y6mQhPrLAInK"
      },
      "source": [
        "### 6 Layers \r\n",
        "* ### Batch Size = 128\r\n",
        "* ### Layers:\r\n",
        "1. ReLU - 1024\r\n",
        "2. ReLU - 512\r\n",
        "3. ReLU - 256\r\n",
        "4. ReLU - 128 \r\n",
        "5. ReLU - 64\r\n",
        "6. Softmax - 10"
      ]
    },
    {
      "cell_type": "code",
      "metadata": {
        "colab": {
          "base_uri": "https://localhost:8080/"
        },
        "id": "n5iR8xBM4BMJ",
        "outputId": "c193dcc0-f0e8-482e-db9b-4cbaae736f07"
      },
      "source": [
        "model = Sequential()\n",
        "# The first dense layer\n",
        "model.add(Dense(1024, input_shape=(784,), activation=\"relu\"))\n",
        "# The second dense layer\n",
        "model.add(Dense(512, activation=\"relu\"))\n",
        "# The third dense layer\n",
        "model.add(Dense(256, activation=\"relu\"))\n",
        "# The fourth dense layer\n",
        "model.add(Dense(128, activation=\"relu\"))\n",
        "# The five dense layer\n",
        "model.add(Dense(64, activation=\"relu\"))\n",
        "# The last layer is the output layer\n",
        "model.add(Dense(10, activation=\"softmax\"))\n",
        "\n",
        "model.compile(optimizer='sgd', loss='categorical_crossentropy',\n",
        "              metrics=['accuracy'])\n",
        "\n",
        "# Setting `verbose=1` prints out some results after each epoch\n",
        "model.fit(X_train, Y_train, batch_size=batch_size, epochs=20, verbose=1)"
      ],
      "execution_count": null,
      "outputs": [
        {
          "output_type": "stream",
          "text": [
            "Epoch 1/20\n",
            "469/469 [==============================] - 11s 23ms/step - loss: 1.5135 - accuracy: 0.5179\n",
            "Epoch 2/20\n",
            "469/469 [==============================] - 11s 23ms/step - loss: 0.6165 - accuracy: 0.7844\n",
            "Epoch 3/20\n",
            "469/469 [==============================] - 11s 23ms/step - loss: 0.5261 - accuracy: 0.8143\n",
            "Epoch 4/20\n",
            "469/469 [==============================] - 11s 24ms/step - loss: 0.4751 - accuracy: 0.8316\n",
            "Epoch 5/20\n",
            "469/469 [==============================] - 11s 23ms/step - loss: 0.4420 - accuracy: 0.8447\n",
            "Epoch 6/20\n",
            "469/469 [==============================] - 11s 24ms/step - loss: 0.4187 - accuracy: 0.8537\n",
            "Epoch 7/20\n",
            "469/469 [==============================] - 11s 24ms/step - loss: 0.4017 - accuracy: 0.8584\n",
            "Epoch 8/20\n",
            "469/469 [==============================] - 11s 24ms/step - loss: 0.3877 - accuracy: 0.8622\n",
            "Epoch 9/20\n",
            "469/469 [==============================] - 11s 23ms/step - loss: 0.3741 - accuracy: 0.8684\n",
            "Epoch 10/20\n",
            "469/469 [==============================] - 11s 23ms/step - loss: 0.3770 - accuracy: 0.8674\n",
            "Epoch 11/20\n",
            "469/469 [==============================] - 11s 24ms/step - loss: 0.3572 - accuracy: 0.8736\n",
            "Epoch 12/20\n",
            "469/469 [==============================] - 11s 23ms/step - loss: 0.3517 - accuracy: 0.8759\n",
            "Epoch 13/20\n",
            "469/469 [==============================] - 11s 23ms/step - loss: 0.3467 - accuracy: 0.8734\n",
            "Epoch 14/20\n",
            "469/469 [==============================] - 11s 23ms/step - loss: 0.3353 - accuracy: 0.8796\n",
            "Epoch 15/20\n",
            "469/469 [==============================] - 11s 23ms/step - loss: 0.3264 - accuracy: 0.8839\n",
            "Epoch 16/20\n",
            "469/469 [==============================] - 11s 24ms/step - loss: 0.3183 - accuracy: 0.8849\n",
            "Epoch 17/20\n",
            "469/469 [==============================] - 11s 23ms/step - loss: 0.3141 - accuracy: 0.8883\n",
            "Epoch 18/20\n",
            "469/469 [==============================] - 11s 24ms/step - loss: 0.3083 - accuracy: 0.8875\n",
            "Epoch 19/20\n",
            "469/469 [==============================] - 11s 24ms/step - loss: 0.2978 - accuracy: 0.8918\n",
            "Epoch 20/20\n",
            "469/469 [==============================] - 11s 24ms/step - loss: 0.2953 - accuracy: 0.8939\n"
          ],
          "name": "stdout"
        },
        {
          "output_type": "execute_result",
          "data": {
            "text/plain": [
              "<tensorflow.python.keras.callbacks.History at 0x7f85d953b978>"
            ]
          },
          "metadata": {
            "tags": []
          },
          "execution_count": 54
        }
      ]
    },
    {
      "cell_type": "code",
      "metadata": {
        "colab": {
          "base_uri": "https://localhost:8080/"
        },
        "id": "ZxDZGFak4P6h",
        "outputId": "39928e8e-a30c-471d-9229-5fac60e4bab3"
      },
      "source": [
        "score = model.evaluate(X_test, Y_test, verbose=0)\n",
        "print('Test score:', score[0])\n",
        "print('Test accuracy:', score[1])"
      ],
      "execution_count": null,
      "outputs": [
        {
          "output_type": "stream",
          "text": [
            "Test score: 0.35612183809280396\n",
            "Test accuracy: 0.8687000274658203\n"
          ],
          "name": "stdout"
        }
      ]
    },
    {
      "cell_type": "markdown",
      "metadata": {
        "id": "xzotyK6HB6sS"
      },
      "source": [
        "* Training score: .8939\r\n",
        "* Test score: 0.35612183809280396\r\n",
        "* Test accuracy: 0.8687000274658203"
      ]
    },
    {
      "cell_type": "markdown",
      "metadata": {
        "id": "ZYzyIaWW90IP"
      },
      "source": [
        "### 10 Layers \r\n",
        "* ### Batch Size = 128\r\n",
        "* ### Layers:\r\n",
        "1. ReLU - 2048\r\n",
        "2. ReLU - 1024\r\n",
        "3. ReLU - 512\r\n",
        "4. ReLU - 256 \r\n",
        "5. ReLU - 128\r\n",
        "6. ReLU - 64\r\n",
        "7. ReLU - 32\r\n",
        "8. ReLU - 16\r\n",
        "9. ReLU - 10\r\n",
        "10. Softmax - 10"
      ]
    },
    {
      "cell_type": "code",
      "metadata": {
        "colab": {
          "base_uri": "https://localhost:8080/"
        },
        "id": "kMDX3P6U-NQE",
        "outputId": "57daac11-ff3a-4faa-9c23-9ee501bbe4c4"
      },
      "source": [
        "model = Sequential()\r\n",
        "\r\n",
        "# Layer 1\r\n",
        "model.add(Dense(2048, input_shape=(784,), activation=\"relu\"))\r\n",
        "# Layer 2\r\n",
        "model.add(Dense(1024, activation=\"relu\"))\r\n",
        "# Layer 3\r\n",
        "model.add(Dense(512, activation=\"relu\"))\r\n",
        "# Layer 4\r\n",
        "model.add(Dense(256, activation=\"relu\"))\r\n",
        "# Layer 5\r\n",
        "model.add(Dense(128, activation=\"relu\"))\r\n",
        "# Layer 6\r\n",
        "model.add(Dense(64, activation=\"relu\"))\r\n",
        "# Layer 7\r\n",
        "model.add(Dense(32, activation=\"relu\"))\r\n",
        "# Layer 8\r\n",
        "model.add(Dense(16, activation=\"relu\"))\r\n",
        "# Layer 9\r\n",
        "model.add(Dense(10, activation=\"relu\"))\r\n",
        "# Layer 10: Output Layer\r\n",
        "model.add(Dense(10, activation=\"softmax\"))\r\n",
        "\r\n",
        "model.compile(optimizer='sgd', loss='categorical_crossentropy',\r\n",
        "              metrics=['accuracy'])\r\n",
        "\r\n",
        "# Setting `verbose=1` prints out some results after each epoch\r\n",
        "model.fit(X_train, Y_train, batch_size=batch_size, epochs=20, verbose=1)"
      ],
      "execution_count": null,
      "outputs": [
        {
          "output_type": "stream",
          "text": [
            "Epoch 1/20\n",
            "469/469 [==============================] - 40s 83ms/step - loss: 2.0093 - accuracy: 0.2588\n",
            "Epoch 2/20\n",
            "469/469 [==============================] - 39s 84ms/step - loss: 0.8625 - accuracy: 0.6590\n",
            "Epoch 3/20\n",
            "469/469 [==============================] - 39s 84ms/step - loss: 0.6552 - accuracy: 0.7622\n",
            "Epoch 4/20\n",
            "469/469 [==============================] - 39s 84ms/step - loss: 0.5544 - accuracy: 0.8002\n",
            "Epoch 5/20\n",
            "469/469 [==============================] - 39s 84ms/step - loss: 0.4944 - accuracy: 0.8276\n",
            "Epoch 6/20\n",
            "469/469 [==============================] - 40s 84ms/step - loss: 0.4510 - accuracy: 0.8424\n",
            "Epoch 7/20\n",
            "469/469 [==============================] - 39s 84ms/step - loss: 0.4213 - accuracy: 0.8476\n",
            "Epoch 8/20\n",
            "469/469 [==============================] - 40s 85ms/step - loss: 0.3874 - accuracy: 0.8600\n",
            "Epoch 9/20\n",
            "469/469 [==============================] - 40s 84ms/step - loss: 0.3662 - accuracy: 0.8675\n",
            "Epoch 10/20\n",
            "469/469 [==============================] - 40s 85ms/step - loss: 0.3528 - accuracy: 0.8756\n",
            "Epoch 11/20\n",
            "469/469 [==============================] - 39s 84ms/step - loss: 0.3355 - accuracy: 0.8790\n",
            "Epoch 12/20\n",
            "469/469 [==============================] - 39s 84ms/step - loss: 0.3245 - accuracy: 0.8817\n",
            "Epoch 13/20\n",
            "469/469 [==============================] - 39s 84ms/step - loss: 0.3080 - accuracy: 0.8868\n",
            "Epoch 14/20\n",
            "469/469 [==============================] - 39s 84ms/step - loss: 0.2958 - accuracy: 0.8922\n",
            "Epoch 15/20\n",
            "469/469 [==============================] - 39s 84ms/step - loss: 0.2919 - accuracy: 0.8907\n",
            "Epoch 16/20\n",
            "469/469 [==============================] - 39s 84ms/step - loss: 0.2791 - accuracy: 0.8984\n",
            "Epoch 17/20\n",
            "469/469 [==============================] - 40s 85ms/step - loss: 0.2716 - accuracy: 0.9014\n",
            "Epoch 18/20\n",
            "469/469 [==============================] - 40s 85ms/step - loss: 0.2625 - accuracy: 0.9042\n",
            "Epoch 19/20\n",
            "469/469 [==============================] - 40s 85ms/step - loss: 0.2460 - accuracy: 0.9103\n",
            "Epoch 20/20\n",
            "469/469 [==============================] - 39s 84ms/step - loss: 0.2345 - accuracy: 0.9145\n"
          ],
          "name": "stdout"
        },
        {
          "output_type": "execute_result",
          "data": {
            "text/plain": [
              "<tensorflow.python.keras.callbacks.History at 0x7f35fcc8f208>"
            ]
          },
          "metadata": {
            "tags": []
          },
          "execution_count": 11
        }
      ]
    },
    {
      "cell_type": "code",
      "metadata": {
        "colab": {
          "base_uri": "https://localhost:8080/"
        },
        "id": "9rWIUIy0CEIL",
        "outputId": "5584122b-949a-43ae-b0f5-21ae585e0829"
      },
      "source": [
        "score = model.evaluate(X_test, Y_test, verbose=0)\r\n",
        "print('Test score:', score[0])\r\n",
        "print('Test accuracy:', score[1])"
      ],
      "execution_count": null,
      "outputs": [
        {
          "output_type": "stream",
          "text": [
            "Test score: 0.38328394293785095\n",
            "Test accuracy: 0.8659999966621399\n"
          ],
          "name": "stdout"
        }
      ]
    },
    {
      "cell_type": "markdown",
      "metadata": {
        "id": "3n7YRH8KCa4F"
      },
      "source": [
        "* Training score: 0.9145\r\n",
        "* Test score: 0.38328394293785095\r\n",
        "* Test accuracy: 0.8659999966621399"
      ]
    },
    {
      "cell_type": "markdown",
      "metadata": {
        "id": "4coBUfYjDBg1"
      },
      "source": [
        "### Results\r\n",
        "\r\n",
        "| Layers | Loss | Training Accuracy | Test Accuracy |\r\n",
        "|---|---|---|---|\r\n",
        "| 3 | 0.4554 | 0.8528 | 0.8404 |\r\n",
        "| 6 | 0.3561 | 0.8939 | 0.8687 |\r\n",
        "| 10 | 0.3832 | 0.9145 | 0.8659 |\r\n",
        "\r\n",
        "You can see that training accuracy improved with more layers, but test accuracy plateaued."
      ]
    },
    {
      "cell_type": "markdown",
      "metadata": {
        "id": "hPFxAEduEkg2"
      },
      "source": [
        "## 2. Activation Functions"
      ]
    },
    {
      "cell_type": "markdown",
      "metadata": {
        "id": "sgYQ7nu2FCBr"
      },
      "source": [
        "### tanh"
      ]
    },
    {
      "cell_type": "code",
      "metadata": {
        "colab": {
          "base_uri": "https://localhost:8080/"
        },
        "id": "cOrr82ffFEUY",
        "outputId": "b48e1db9-3c14-40bf-ca7b-df98c4457aef"
      },
      "source": [
        "model = Sequential()\r\n",
        "\r\n",
        "# The first dense layer\r\n",
        "model.add(Dense(128, input_shape=(784,), activation=\"tanh\"))\r\n",
        "\r\n",
        "# The second dense layer\r\n",
        "model.add(Dense(64, activation=\"tanh\"))\r\n",
        "\r\n",
        "# The last layer is the output layer\r\n",
        "model.add(Dense(10, activation=\"softmax\"))\r\n",
        "\r\n",
        "# Compiling\r\n",
        "model.compile(optimizer='sgd', loss='categorical_crossentropy',\r\n",
        "              metrics=['accuracy'])\r\n",
        "\r\n",
        "# Fitting the model\r\n",
        "model.fit(X_train, Y_train, batch_size=batch_size, epochs=20, verbose=1)"
      ],
      "execution_count": null,
      "outputs": [
        {
          "output_type": "stream",
          "text": [
            "Epoch 1/20\n",
            "469/469 [==============================] - 2s 3ms/step - loss: 1.3633 - accuracy: 0.5765\n",
            "Epoch 2/20\n",
            "469/469 [==============================] - 1s 3ms/step - loss: 0.6796 - accuracy: 0.7775\n",
            "Epoch 3/20\n",
            "469/469 [==============================] - 1s 3ms/step - loss: 0.5797 - accuracy: 0.8069\n",
            "Epoch 4/20\n",
            "469/469 [==============================] - 1s 3ms/step - loss: 0.5345 - accuracy: 0.8148\n",
            "Epoch 5/20\n",
            "469/469 [==============================] - 1s 3ms/step - loss: 0.5004 - accuracy: 0.8272\n",
            "Epoch 6/20\n",
            "469/469 [==============================] - 1s 3ms/step - loss: 0.4819 - accuracy: 0.8306\n",
            "Epoch 7/20\n",
            "469/469 [==============================] - 1s 3ms/step - loss: 0.4607 - accuracy: 0.8387\n",
            "Epoch 8/20\n",
            "469/469 [==============================] - 1s 3ms/step - loss: 0.4452 - accuracy: 0.8421\n",
            "Epoch 9/20\n",
            "469/469 [==============================] - 1s 3ms/step - loss: 0.4423 - accuracy: 0.8436\n",
            "Epoch 10/20\n",
            "469/469 [==============================] - 1s 3ms/step - loss: 0.4231 - accuracy: 0.8502\n",
            "Epoch 11/20\n",
            "469/469 [==============================] - 1s 3ms/step - loss: 0.4187 - accuracy: 0.8548\n",
            "Epoch 12/20\n",
            "469/469 [==============================] - 1s 3ms/step - loss: 0.4132 - accuracy: 0.8549\n",
            "Epoch 13/20\n",
            "469/469 [==============================] - 1s 3ms/step - loss: 0.4071 - accuracy: 0.8570\n",
            "Epoch 14/20\n",
            "469/469 [==============================] - 1s 3ms/step - loss: 0.4003 - accuracy: 0.8586\n",
            "Epoch 15/20\n",
            "469/469 [==============================] - 1s 3ms/step - loss: 0.3934 - accuracy: 0.8606\n",
            "Epoch 16/20\n",
            "469/469 [==============================] - 1s 3ms/step - loss: 0.3922 - accuracy: 0.8615\n",
            "Epoch 17/20\n",
            "469/469 [==============================] - 1s 3ms/step - loss: 0.3870 - accuracy: 0.8622\n",
            "Epoch 18/20\n",
            "469/469 [==============================] - 1s 3ms/step - loss: 0.3800 - accuracy: 0.8665\n",
            "Epoch 19/20\n",
            "469/469 [==============================] - 1s 3ms/step - loss: 0.3765 - accuracy: 0.8671\n",
            "Epoch 20/20\n",
            "469/469 [==============================] - 1s 3ms/step - loss: 0.3763 - accuracy: 0.8654\n"
          ],
          "name": "stdout"
        },
        {
          "output_type": "execute_result",
          "data": {
            "text/plain": [
              "<tensorflow.python.keras.callbacks.History at 0x7f35f8b1f6d8>"
            ]
          },
          "metadata": {
            "tags": []
          },
          "execution_count": 15
        }
      ]
    },
    {
      "cell_type": "code",
      "metadata": {
        "colab": {
          "base_uri": "https://localhost:8080/"
        },
        "id": "0MdxSBi5FLLs",
        "outputId": "8f7b0012-98d0-489f-a74d-7c3d110053d6"
      },
      "source": [
        "score = model.evaluate(X_test, Y_test, verbose=0)\r\n",
        "print('Test score:', score[0])\r\n",
        "print('Test accuracy:', score[1])"
      ],
      "execution_count": null,
      "outputs": [
        {
          "output_type": "stream",
          "text": [
            "Test score: 0.40956875681877136\n",
            "Test accuracy: 0.8536999821662903\n"
          ],
          "name": "stdout"
        }
      ]
    },
    {
      "cell_type": "markdown",
      "metadata": {
        "id": "oyRzu2f1FZiP"
      },
      "source": [
        "### sigmoid"
      ]
    },
    {
      "cell_type": "code",
      "metadata": {
        "colab": {
          "base_uri": "https://localhost:8080/"
        },
        "id": "ccbmgc4KF_nW",
        "outputId": "52b17eb1-8447-40f7-f665-d392ec7f66e4"
      },
      "source": [
        "model = Sequential()\r\n",
        "\r\n",
        "# The first dense layer\r\n",
        "model.add(Dense(128, input_shape=(784,), activation=\"sigmoid\"))\r\n",
        "\r\n",
        "# The second dense layer\r\n",
        "model.add(Dense(64, activation=\"sigmoid\"))\r\n",
        "\r\n",
        "# The last layer is the output layer\r\n",
        "model.add(Dense(10, activation=\"softmax\"))\r\n",
        "\r\n",
        "# Compile with categorical crossentropy and accuracy metric\r\n",
        "model.compile(optimizer='sgd', loss='categorical_crossentropy',\r\n",
        "              metrics=['accuracy'])\r\n",
        "\r\n",
        "# Fitting the model\r\n",
        "model.fit(X_train, Y_train, batch_size=batch_size, epochs=20, verbose=1)"
      ],
      "execution_count": null,
      "outputs": [
        {
          "output_type": "stream",
          "text": [
            "Epoch 1/20\n",
            "469/469 [==============================] - 2s 3ms/step - loss: 2.3113 - accuracy: 0.1868\n",
            "Epoch 2/20\n",
            "469/469 [==============================] - 1s 3ms/step - loss: 2.1681 - accuracy: 0.5215\n",
            "Epoch 3/20\n",
            "469/469 [==============================] - 1s 3ms/step - loss: 2.0003 - accuracy: 0.6097\n",
            "Epoch 4/20\n",
            "469/469 [==============================] - 1s 3ms/step - loss: 1.7827 - accuracy: 0.5900\n",
            "Epoch 5/20\n",
            "469/469 [==============================] - 1s 3ms/step - loss: 1.5911 - accuracy: 0.5900\n",
            "Epoch 6/20\n",
            "469/469 [==============================] - 1s 3ms/step - loss: 1.4385 - accuracy: 0.6113\n",
            "Epoch 7/20\n",
            "469/469 [==============================] - 1s 3ms/step - loss: 1.3224 - accuracy: 0.6330\n",
            "Epoch 8/20\n",
            "469/469 [==============================] - 1s 3ms/step - loss: 1.2258 - accuracy: 0.6503\n",
            "Epoch 9/20\n",
            "469/469 [==============================] - 1s 3ms/step - loss: 1.1425 - accuracy: 0.6663\n",
            "Epoch 10/20\n",
            "469/469 [==============================] - 1s 3ms/step - loss: 1.0721 - accuracy: 0.6821\n",
            "Epoch 11/20\n",
            "469/469 [==============================] - 1s 3ms/step - loss: 1.0163 - accuracy: 0.6907\n",
            "Epoch 12/20\n",
            "469/469 [==============================] - 1s 3ms/step - loss: 0.9756 - accuracy: 0.6977\n",
            "Epoch 13/20\n",
            "469/469 [==============================] - 1s 3ms/step - loss: 0.9273 - accuracy: 0.7051\n",
            "Epoch 14/20\n",
            "469/469 [==============================] - 1s 3ms/step - loss: 0.8892 - accuracy: 0.7184\n",
            "Epoch 15/20\n",
            "469/469 [==============================] - 1s 3ms/step - loss: 0.8527 - accuracy: 0.7217\n",
            "Epoch 16/20\n",
            "469/469 [==============================] - 1s 3ms/step - loss: 0.8223 - accuracy: 0.7317\n",
            "Epoch 17/20\n",
            "469/469 [==============================] - 1s 3ms/step - loss: 0.7933 - accuracy: 0.7355\n",
            "Epoch 18/20\n",
            "469/469 [==============================] - 1s 3ms/step - loss: 0.7737 - accuracy: 0.7373\n",
            "Epoch 19/20\n",
            "469/469 [==============================] - 1s 3ms/step - loss: 0.7506 - accuracy: 0.7436\n",
            "Epoch 20/20\n",
            "469/469 [==============================] - 1s 3ms/step - loss: 0.7279 - accuracy: 0.7467\n"
          ],
          "name": "stdout"
        },
        {
          "output_type": "execute_result",
          "data": {
            "text/plain": [
              "<tensorflow.python.keras.callbacks.History at 0x7f35f79bd1d0>"
            ]
          },
          "metadata": {
            "tags": []
          },
          "execution_count": 17
        }
      ]
    },
    {
      "cell_type": "code",
      "metadata": {
        "id": "bO4M4pYvIsdQ"
      },
      "source": [
        ""
      ],
      "execution_count": null,
      "outputs": []
    },
    {
      "cell_type": "code",
      "metadata": {
        "colab": {
          "base_uri": "https://localhost:8080/"
        },
        "id": "ec-EY5bTGjPP",
        "outputId": "44c7b769-92d1-47f9-e898-fd4c799cb822"
      },
      "source": [
        "score = model.evaluate(X_test, Y_test, verbose=0)\r\n",
        "print('Test score:', score[0])\r\n",
        "print('Test accuracy:', score[1])"
      ],
      "execution_count": null,
      "outputs": [
        {
          "output_type": "stream",
          "text": [
            "Test score: 0.734932005405426\n",
            "Test accuracy: 0.7382000088691711\n"
          ],
          "name": "stdout"
        }
      ]
    },
    {
      "cell_type": "markdown",
      "metadata": {
        "id": "6wxtPGv4FmBj"
      },
      "source": [
        "### Results\r\n",
        "\r\n",
        "| Activation Function | Loss | Training Accuracy | Test Accuracy |\r\n",
        "| --- | --- | --- | --- |\r\n",
        "| ReLU | 0.4554 | 0.8528 | 0.8404 |\r\n",
        "| tanh | 0.4095 | 0.8543 | 0.8536 |\r\n",
        "| sigmoid | 0.7349 | 0.7467 | 0.7382 |\r\n",
        "\r\n",
        "tanh seems to perform slightly better and have less loss for just 3 layers. Let's try tanh with 6 layers"
      ]
    },
    {
      "cell_type": "markdown",
      "metadata": {
        "id": "sA1ogSEIKe5N"
      },
      "source": [
        "### 6 layers of tanh"
      ]
    },
    {
      "cell_type": "code",
      "metadata": {
        "colab": {
          "base_uri": "https://localhost:8080/"
        },
        "id": "AhJoAlpxG9w6",
        "outputId": "fc18b17f-908b-4e9b-bdb7-15f5f43950d6"
      },
      "source": [
        "model = Sequential()\r\n",
        "\r\n",
        "# Layer 1\r\n",
        "model.add(Dense(1024, input_shape=(784,), activation=\"tanh\"))\r\n",
        "\r\n",
        "# Layer 2\r\n",
        "model.add(Dense(512, activation=\"tanh\"))\r\n",
        "\r\n",
        "# Layer 3\r\n",
        "model.add(Dense(256, activation=\"tanh\"))\r\n",
        "\r\n",
        "# Layer 4\r\n",
        "model.add(Dense(128, activation=\"tanh\"))\r\n",
        "\r\n",
        "# Layer 5\r\n",
        "model.add(Dense(64, activation=\"tanh\"))\r\n",
        "\r\n",
        "# Layer 6: output layer\r\n",
        "model.add(Dense(10, activation=\"softmax\"))\r\n",
        "\r\n",
        "# Compiling\r\n",
        "model.compile(optimizer='sgd', loss='categorical_crossentropy',\r\n",
        "              metrics=['accuracy'])\r\n",
        "\r\n",
        "# Fitting the model\r\n",
        "model.fit(X_train, Y_train, batch_size=batch_size, epochs=20, verbose=1)"
      ],
      "execution_count": null,
      "outputs": [
        {
          "output_type": "stream",
          "text": [
            "Epoch 1/20\n",
            "469/469 [==============================] - 13s 27ms/step - loss: 1.0573 - accuracy: 0.6672\n",
            "Epoch 2/20\n",
            "469/469 [==============================] - 12s 26ms/step - loss: 0.5418 - accuracy: 0.8174\n",
            "Epoch 3/20\n",
            "469/469 [==============================] - 12s 27ms/step - loss: 0.4737 - accuracy: 0.8350\n",
            "Epoch 4/20\n",
            "469/469 [==============================] - 12s 27ms/step - loss: 0.4349 - accuracy: 0.8475\n",
            "Epoch 5/20\n",
            "469/469 [==============================] - 12s 27ms/step - loss: 0.4180 - accuracy: 0.8523\n",
            "Epoch 6/20\n",
            "469/469 [==============================] - 12s 27ms/step - loss: 0.3988 - accuracy: 0.8584\n",
            "Epoch 7/20\n",
            "469/469 [==============================] - 12s 27ms/step - loss: 0.3915 - accuracy: 0.8588\n",
            "Epoch 8/20\n",
            "469/469 [==============================] - 12s 27ms/step - loss: 0.3810 - accuracy: 0.8643\n",
            "Epoch 9/20\n",
            "469/469 [==============================] - 12s 27ms/step - loss: 0.3659 - accuracy: 0.8686\n",
            "Epoch 10/20\n",
            "469/469 [==============================] - 13s 27ms/step - loss: 0.3667 - accuracy: 0.8676\n",
            "Epoch 11/20\n",
            "469/469 [==============================] - 13s 28ms/step - loss: 0.3553 - accuracy: 0.8723\n",
            "Epoch 12/20\n",
            "469/469 [==============================] - 12s 26ms/step - loss: 0.3491 - accuracy: 0.8752\n",
            "Epoch 13/20\n",
            "469/469 [==============================] - 13s 27ms/step - loss: 0.3430 - accuracy: 0.8775\n",
            "Epoch 14/20\n",
            "469/469 [==============================] - 12s 27ms/step - loss: 0.3369 - accuracy: 0.8792\n",
            "Epoch 15/20\n",
            "469/469 [==============================] - 13s 27ms/step - loss: 0.3356 - accuracy: 0.8800\n",
            "Epoch 16/20\n",
            "469/469 [==============================] - 13s 27ms/step - loss: 0.3286 - accuracy: 0.8802\n",
            "Epoch 17/20\n",
            "469/469 [==============================] - 13s 27ms/step - loss: 0.3248 - accuracy: 0.8837\n",
            "Epoch 18/20\n",
            "469/469 [==============================] - 13s 27ms/step - loss: 0.3174 - accuracy: 0.8865\n",
            "Epoch 19/20\n",
            "469/469 [==============================] - 12s 27ms/step - loss: 0.3133 - accuracy: 0.8858\n",
            "Epoch 20/20\n",
            "469/469 [==============================] - 13s 27ms/step - loss: 0.3072 - accuracy: 0.8889\n"
          ],
          "name": "stdout"
        },
        {
          "output_type": "execute_result",
          "data": {
            "text/plain": [
              "<tensorflow.python.keras.callbacks.History at 0x7f35f68e96d8>"
            ]
          },
          "metadata": {
            "tags": []
          },
          "execution_count": 19
        }
      ]
    },
    {
      "cell_type": "code",
      "metadata": {
        "colab": {
          "base_uri": "https://localhost:8080/"
        },
        "id": "Mp4eM2PZIuXl",
        "outputId": "332867c0-872e-459d-c0e1-d8b3b3f45282"
      },
      "source": [
        "score = model.evaluate(X_test, Y_test, verbose=0)\r\n",
        "print('Test score:', score[0])\r\n",
        "print('Test accuracy:', score[1])"
      ],
      "execution_count": null,
      "outputs": [
        {
          "output_type": "stream",
          "text": [
            "Test score: 0.4027322232723236\n",
            "Test accuracy: 0.8478000164031982\n"
          ],
          "name": "stdout"
        }
      ]
    },
    {
      "cell_type": "markdown",
      "metadata": {
        "id": "53BN2JKxIxKX"
      },
      "source": [
        "That does not beat ReLU with 6 layers."
      ]
    },
    {
      "cell_type": "markdown",
      "metadata": {
        "id": "3T5eIwroEw0x"
      },
      "source": [
        "## 4. Batch Size"
      ]
    },
    {
      "cell_type": "markdown",
      "metadata": {
        "id": "T6-G2RhwK51q"
      },
      "source": [
        "### Batch Size = 16\r\n",
        "* Layers: \r\n",
        "1. ReLU - 128 Neurons\r\n",
        "2. ReLU - 64 Neurons\r\n",
        "3. Softmax - 10 Neurons"
      ]
    },
    {
      "cell_type": "code",
      "metadata": {
        "colab": {
          "base_uri": "https://localhost:8080/"
        },
        "id": "s01uEHPdK1WQ",
        "outputId": "a67c41a0-1b41-43f4-ab52-c571b3de003e"
      },
      "source": [
        "# Using Sequential API\r\n",
        "model = Sequential()\r\n",
        "\r\n",
        "# The first dense layer\r\n",
        "model.add(Dense(128, input_shape=(784,), activation=\"relu\"))\r\n",
        "\r\n",
        "# The second dense layer\r\n",
        "model.add(Dense(64, activation=\"relu\"))\r\n",
        "\r\n",
        "# The last layer is the output layer\r\n",
        "model.add(Dense(10, activation=\"softmax\"))\r\n",
        "\r\n",
        "# Compile with the Loss Function and use Accuracy as the data is balanced\r\n",
        "model.compile(optimizer='sgd', loss='categorical_crossentropy',\r\n",
        "              metrics=['accuracy'])\r\n",
        "\r\n",
        "# Train the model over 20 epochs\r\n",
        "model.fit(X_train, Y_train, batch_size=16, epochs=20, verbose=1)"
      ],
      "execution_count": null,
      "outputs": [
        {
          "output_type": "stream",
          "text": [
            "Epoch 1/20\n",
            "3750/3750 [==============================] - 6s 1ms/step - loss: 0.8673 - accuracy: 0.7144\n",
            "Epoch 2/20\n",
            "3750/3750 [==============================] - 5s 1ms/step - loss: 0.4730 - accuracy: 0.8358\n",
            "Epoch 3/20\n",
            "3750/3750 [==============================] - 5s 1ms/step - loss: 0.4164 - accuracy: 0.8540\n",
            "Epoch 4/20\n",
            "3750/3750 [==============================] - 5s 1ms/step - loss: 0.3829 - accuracy: 0.8646\n",
            "Epoch 5/20\n",
            "3750/3750 [==============================] - 5s 1ms/step - loss: 0.3663 - accuracy: 0.8694\n",
            "Epoch 6/20\n",
            "3750/3750 [==============================] - 5s 1ms/step - loss: 0.3489 - accuracy: 0.8725\n",
            "Epoch 7/20\n",
            "3750/3750 [==============================] - 5s 1ms/step - loss: 0.3323 - accuracy: 0.8809\n",
            "Epoch 8/20\n",
            "3750/3750 [==============================] - 5s 1ms/step - loss: 0.3217 - accuracy: 0.8838\n",
            "Epoch 9/20\n",
            "3750/3750 [==============================] - 5s 1ms/step - loss: 0.3101 - accuracy: 0.8875\n",
            "Epoch 10/20\n",
            "3750/3750 [==============================] - 5s 1ms/step - loss: 0.2981 - accuracy: 0.8904\n",
            "Epoch 11/20\n",
            "3750/3750 [==============================] - 5s 1ms/step - loss: 0.2902 - accuracy: 0.8944\n",
            "Epoch 12/20\n",
            "3750/3750 [==============================] - 6s 1ms/step - loss: 0.2866 - accuracy: 0.8950\n",
            "Epoch 13/20\n",
            "3750/3750 [==============================] - 5s 1ms/step - loss: 0.2756 - accuracy: 0.8982\n",
            "Epoch 14/20\n",
            "3750/3750 [==============================] - 5s 1ms/step - loss: 0.2648 - accuracy: 0.9029\n",
            "Epoch 15/20\n",
            "3750/3750 [==============================] - 5s 1ms/step - loss: 0.2661 - accuracy: 0.9031\n",
            "Epoch 16/20\n",
            "3750/3750 [==============================] - 5s 1ms/step - loss: 0.2549 - accuracy: 0.9069\n",
            "Epoch 17/20\n",
            "3750/3750 [==============================] - 6s 1ms/step - loss: 0.2490 - accuracy: 0.9098\n",
            "Epoch 18/20\n",
            "3750/3750 [==============================] - 6s 1ms/step - loss: 0.2448 - accuracy: 0.9097\n",
            "Epoch 19/20\n",
            "3750/3750 [==============================] - 5s 1ms/step - loss: 0.2482 - accuracy: 0.9077\n",
            "Epoch 20/20\n",
            "3750/3750 [==============================] - 6s 1ms/step - loss: 0.2324 - accuracy: 0.9142\n"
          ],
          "name": "stdout"
        },
        {
          "output_type": "execute_result",
          "data": {
            "text/plain": [
              "<tensorflow.python.keras.callbacks.History at 0x7f35f9c33908>"
            ]
          },
          "metadata": {
            "tags": []
          },
          "execution_count": 21
        }
      ]
    },
    {
      "cell_type": "code",
      "metadata": {
        "colab": {
          "base_uri": "https://localhost:8080/"
        },
        "id": "4G-R4bbzLdLk",
        "outputId": "057a699b-6081-4501-acbc-74a5c45fb994"
      },
      "source": [
        "score = model.evaluate(X_test, Y_test, verbose=0)\r\n",
        "print('Test score:', score[0])\r\n",
        "print('Test accuracy:', score[1])"
      ],
      "execution_count": null,
      "outputs": [
        {
          "output_type": "stream",
          "text": [
            "Test score: 0.33494657278060913\n",
            "Test accuracy: 0.8852999806404114\n"
          ],
          "name": "stdout"
        }
      ]
    },
    {
      "cell_type": "markdown",
      "metadata": {
        "id": "FhyM0cP_Lgqs"
      },
      "source": [
        "* Train accuracy: 0.9142\r\n",
        "* Test score: 0.33494657278060913\r\n",
        "* Test accuracy: 0.8852999806404114"
      ]
    },
    {
      "cell_type": "markdown",
      "metadata": {
        "id": "XPMHv_BeBVSe"
      },
      "source": [
        "### Batch Size = 8\r\n",
        "* Layers: \r\n",
        "1. ReLU - 128 Neurons\r\n",
        "2. ReLU - 64 Neurons\r\n",
        "3. Softmax - 10 Neurons"
      ]
    },
    {
      "cell_type": "code",
      "metadata": {
        "colab": {
          "base_uri": "https://localhost:8080/"
        },
        "id": "rzuCL1Zq5OKz",
        "outputId": "54be513f-26f3-4602-8286-1b13e0ad9483"
      },
      "source": [
        "# Using Sequential API\n",
        "model = Sequential()\n",
        "\n",
        "# The first dense layer\n",
        "model.add(Dense(128, input_shape=(784,), activation=\"relu\"))\n",
        "\n",
        "# The second dense layer\n",
        "model.add(Dense(64, activation=\"relu\"))\n",
        "\n",
        "# The last layer is the output layer\n",
        "model.add(Dense(10, activation=\"softmax\"))\n",
        "\n",
        "# Compile with the Loss Function and use Accuracy as the data is balanced\n",
        "model.compile(optimizer='sgd', loss='categorical_crossentropy',\n",
        "              metrics=['accuracy'])\n",
        "\n",
        "# Train the model over 20 epochs\n",
        "model.fit(X_train, Y_train, batch_size=8, epochs=20, verbose=1)"
      ],
      "execution_count": null,
      "outputs": [
        {
          "output_type": "stream",
          "text": [
            "Epoch 1/20\n",
            "7500/7500 [==============================] - 12s 2ms/step - loss: 0.7584 - accuracy: 0.7372\n",
            "Epoch 2/20\n",
            "7500/7500 [==============================] - 11s 1ms/step - loss: 0.4308 - accuracy: 0.8463\n",
            "Epoch 3/20\n",
            "7500/7500 [==============================] - 11s 1ms/step - loss: 0.3793 - accuracy: 0.8637\n",
            "Epoch 4/20\n",
            "7500/7500 [==============================] - 11s 1ms/step - loss: 0.3540 - accuracy: 0.8731\n",
            "Epoch 5/20\n",
            "7500/7500 [==============================] - 11s 1ms/step - loss: 0.3359 - accuracy: 0.8780\n",
            "Epoch 6/20\n",
            "7500/7500 [==============================] - 11s 1ms/step - loss: 0.3141 - accuracy: 0.8853\n",
            "Epoch 7/20\n",
            "7500/7500 [==============================] - 11s 1ms/step - loss: 0.2992 - accuracy: 0.8905\n",
            "Epoch 8/20\n",
            "7500/7500 [==============================] - 11s 1ms/step - loss: 0.2893 - accuracy: 0.8929\n",
            "Epoch 9/20\n",
            "7500/7500 [==============================] - 11s 1ms/step - loss: 0.2789 - accuracy: 0.8984\n",
            "Epoch 10/20\n",
            "7500/7500 [==============================] - 11s 1ms/step - loss: 0.2703 - accuracy: 0.9002\n",
            "Epoch 11/20\n",
            "7500/7500 [==============================] - 11s 1ms/step - loss: 0.2619 - accuracy: 0.9008\n",
            "Epoch 12/20\n",
            "7500/7500 [==============================] - 11s 1ms/step - loss: 0.2513 - accuracy: 0.9059\n",
            "Epoch 13/20\n",
            "7500/7500 [==============================] - 11s 1ms/step - loss: 0.2484 - accuracy: 0.9082\n",
            "Epoch 14/20\n",
            "7500/7500 [==============================] - 11s 1ms/step - loss: 0.2352 - accuracy: 0.9135\n",
            "Epoch 15/20\n",
            "7500/7500 [==============================] - 11s 1ms/step - loss: 0.2367 - accuracy: 0.9127\n",
            "Epoch 16/20\n",
            "7500/7500 [==============================] - 11s 1ms/step - loss: 0.2310 - accuracy: 0.9156\n",
            "Epoch 17/20\n",
            "7500/7500 [==============================] - 11s 1ms/step - loss: 0.2219 - accuracy: 0.9176\n",
            "Epoch 18/20\n",
            "7500/7500 [==============================] - 11s 1ms/step - loss: 0.2172 - accuracy: 0.9190\n",
            "Epoch 19/20\n",
            "7500/7500 [==============================] - 11s 1ms/step - loss: 0.2118 - accuracy: 0.9215\n",
            "Epoch 20/20\n",
            "7500/7500 [==============================] - 10s 1ms/step - loss: 0.2081 - accuracy: 0.9246\n"
          ],
          "name": "stdout"
        },
        {
          "output_type": "execute_result",
          "data": {
            "text/plain": [
              "<tensorflow.python.keras.callbacks.History at 0x7f85d98f1080>"
            ]
          },
          "metadata": {
            "tags": []
          },
          "execution_count": 56
        }
      ]
    },
    {
      "cell_type": "code",
      "metadata": {
        "colab": {
          "base_uri": "https://localhost:8080/"
        },
        "id": "BufycLLVBUL_",
        "outputId": "1a4a2820-0d48-46d2-9d4b-a07fe6cfd341"
      },
      "source": [
        "score = model.evaluate(X_test, Y_test, verbose=0)\n",
        "print('Test score:', score[0])\n",
        "print('Test accuracy:', score[1])"
      ],
      "execution_count": null,
      "outputs": [
        {
          "output_type": "stream",
          "text": [
            "Test score: 0.3331048786640167\n",
            "Test accuracy: 0.8822000026702881\n"
          ],
          "name": "stdout"
        }
      ]
    },
    {
      "cell_type": "markdown",
      "metadata": {
        "id": "lulDrLUCMD4r"
      },
      "source": [
        "### Results\r\n",
        "\r\n",
        "| Batch Size | Loss | Training Accuracy | Test Accuracy |\r\n",
        "| --- | --- | --- | --- |\r\n",
        "| 128 | 0.4554 | 0.8528 | 0.8404 |\r\n",
        "| 16 | 0.3349 | 0.9142 | 0.8852 |\r\n",
        "| 8 | 0.3331 | 0.9246 | 0.8822 |\r\n",
        "\r\n",
        "It looks like batch size of 8 has a higher training accuracy and similar loss to batch size of 16. Batch size of 16 has a better test accuracy and is quite a bit faster, so might be a better choice. Let's try that with 6 layers."
      ]
    },
    {
      "cell_type": "markdown",
      "metadata": {
        "id": "P2NlM5BMM6ED"
      },
      "source": [
        "#### Batch size = 16, ReLU, 6 layers"
      ]
    },
    {
      "cell_type": "code",
      "metadata": {
        "colab": {
          "base_uri": "https://localhost:8080/"
        },
        "id": "Spcgj92YM4va",
        "outputId": "d6845507-b60c-4e93-a0ea-01b1a79cfb7e"
      },
      "source": [
        "model = Sequential()\r\n",
        "# The first dense layer\r\n",
        "model.add(Dense(1024, input_shape=(784,), activation=\"relu\"))\r\n",
        "# The second dense layer\r\n",
        "model.add(Dense(512, activation=\"relu\"))\r\n",
        "# The third dense layer\r\n",
        "model.add(Dense(256, activation=\"relu\"))\r\n",
        "# The fourth dense layer\r\n",
        "model.add(Dense(128, activation=\"relu\"))\r\n",
        "# The five dense layer\r\n",
        "model.add(Dense(64, activation=\"relu\"))\r\n",
        "# The last layer is the output layer\r\n",
        "model.add(Dense(10, activation=\"softmax\"))\r\n",
        "\r\n",
        "model.compile(optimizer='sgd', loss='categorical_crossentropy',\r\n",
        "              metrics=['accuracy'])\r\n",
        "\r\n",
        "# Setting `verbose=1` prints out some results after each epoch\r\n",
        "model.fit(X_train, Y_train, batch_size=16, epochs=20, verbose=1)"
      ],
      "execution_count": null,
      "outputs": [
        {
          "output_type": "stream",
          "text": [
            "Epoch 1/20\n",
            "3750/3750 [==============================] - 34s 9ms/step - loss: 0.8502 - accuracy: 0.7089\n",
            "Epoch 2/20\n",
            "3750/3750 [==============================] - 33s 9ms/step - loss: 0.4092 - accuracy: 0.8507\n",
            "Epoch 3/20\n",
            "3750/3750 [==============================] - 33s 9ms/step - loss: 0.3509 - accuracy: 0.8714\n",
            "Epoch 4/20\n",
            "3750/3750 [==============================] - 34s 9ms/step - loss: 0.3205 - accuracy: 0.8814\n",
            "Epoch 5/20\n",
            "3750/3750 [==============================] - 34s 9ms/step - loss: 0.3040 - accuracy: 0.8892\n",
            "Epoch 6/20\n",
            "3750/3750 [==============================] - 34s 9ms/step - loss: 0.2781 - accuracy: 0.8968\n",
            "Epoch 7/20\n",
            "3750/3750 [==============================] - 36s 10ms/step - loss: 0.2671 - accuracy: 0.9002\n",
            "Epoch 8/20\n",
            "3750/3750 [==============================] - 34s 9ms/step - loss: 0.2531 - accuracy: 0.9052\n",
            "Epoch 9/20\n",
            "3750/3750 [==============================] - 34s 9ms/step - loss: 0.2375 - accuracy: 0.9119\n",
            "Epoch 10/20\n",
            "3750/3750 [==============================] - 34s 9ms/step - loss: 0.2287 - accuracy: 0.9138\n",
            "Epoch 11/20\n",
            "3750/3750 [==============================] - 34s 9ms/step - loss: 0.2165 - accuracy: 0.9184\n",
            "Epoch 12/20\n",
            "3750/3750 [==============================] - 34s 9ms/step - loss: 0.2049 - accuracy: 0.9236\n",
            "Epoch 13/20\n",
            "3750/3750 [==============================] - 34s 9ms/step - loss: 0.1975 - accuracy: 0.9257\n",
            "Epoch 14/20\n",
            "3750/3750 [==============================] - 34s 9ms/step - loss: 0.1915 - accuracy: 0.9270\n",
            "Epoch 15/20\n",
            "3750/3750 [==============================] - 35s 9ms/step - loss: 0.1807 - accuracy: 0.9330\n",
            "Epoch 16/20\n",
            "3750/3750 [==============================] - 36s 10ms/step - loss: 0.1738 - accuracy: 0.9332\n",
            "Epoch 17/20\n",
            "3750/3750 [==============================] - 34s 9ms/step - loss: 0.1693 - accuracy: 0.9359\n",
            "Epoch 18/20\n",
            "3750/3750 [==============================] - 35s 9ms/step - loss: 0.1589 - accuracy: 0.9408\n",
            "Epoch 19/20\n",
            "3750/3750 [==============================] - 34s 9ms/step - loss: 0.1513 - accuracy: 0.9433\n",
            "Epoch 20/20\n",
            "3750/3750 [==============================] - 35s 9ms/step - loss: 0.1490 - accuracy: 0.9433\n"
          ],
          "name": "stdout"
        },
        {
          "output_type": "execute_result",
          "data": {
            "text/plain": [
              "<tensorflow.python.keras.callbacks.History at 0x7f36012e5390>"
            ]
          },
          "metadata": {
            "tags": []
          },
          "execution_count": 23
        }
      ]
    },
    {
      "cell_type": "code",
      "metadata": {
        "colab": {
          "base_uri": "https://localhost:8080/"
        },
        "id": "oowMkvOFNG3t",
        "outputId": "7c6b38df-fcd5-4bc5-8cc5-d319487498b0"
      },
      "source": [
        "score = model.evaluate(X_test, Y_test, verbose=0)\r\n",
        "print('Test score:', score[0])\r\n",
        "print('Test accuracy:', score[1])"
      ],
      "execution_count": null,
      "outputs": [
        {
          "output_type": "stream",
          "text": [
            "Test score: 0.33024516701698303\n",
            "Test accuracy: 0.8895999789237976\n"
          ],
          "name": "stdout"
        }
      ]
    },
    {
      "cell_type": "markdown",
      "metadata": {
        "id": "wmx55AxUP8S0"
      },
      "source": [
        "### Best Results:\r\n",
        "\r\n",
        "The best results I have achieved so far are a test accuracy of .8895"
      ]
    },
    {
      "cell_type": "code",
      "metadata": {
        "colab": {
          "base_uri": "https://localhost:8080/"
        },
        "id": "HxedUIetP3pY",
        "outputId": "7ab8c609-fb96-403b-de75-8c031824ea7a"
      },
      "source": [
        "from tensorflow.keras import optimizers\r\n",
        "\r\n",
        "model = Sequential()\r\n",
        "\r\n",
        "# The first dense layer\r\n",
        "model.add(Dense(1024, input_shape=(784,), activation=\"relu\"))\r\n",
        "\r\n",
        "# The second dense layer\r\n",
        "model.add(Dense(512, activation=\"relu\"))\r\n",
        "\r\n",
        "# The third dense layer\r\n",
        "model.add(Dense(256, activation=\"relu\"))\r\n",
        "\r\n",
        "# The fourth dense layer\r\n",
        "model.add(Dense(128, activation=\"relu\"))\r\n",
        "\r\n",
        "# The five dense layer\r\n",
        "model.add(Dense(64, activation=\"relu\"))\r\n",
        "\r\n",
        "# The last layer is the output layer\r\n",
        "model.add(Dense(10, activation=\"softmax\"))\r\n",
        "\r\n",
        "# Compile layers with optimizer and learninngrate = .01\r\n",
        "model.compile(optimizer=optimizers.SGD(lr=0.01), \r\n",
        "              loss='categorical_crossentropy',\r\n",
        "              metrics=['accuracy'])\r\n",
        "\r\n",
        "# Fitting the model, batch size =16\r\n",
        "model.fit(X_train, \r\n",
        "          Y_train, \r\n",
        "          batch_size=16, \r\n",
        "          epochs=20, \r\n",
        "          verbose=1)"
      ],
      "execution_count": null,
      "outputs": [
        {
          "output_type": "stream",
          "text": [
            "Epoch 1/20\n",
            "3750/3750 [==============================] - 35s 9ms/step - loss: 0.8404 - accuracy: 0.7144\n",
            "Epoch 2/20\n",
            "3750/3750 [==============================] - 34s 9ms/step - loss: 0.4117 - accuracy: 0.8535\n",
            "Epoch 3/20\n",
            "3750/3750 [==============================] - 34s 9ms/step - loss: 0.3543 - accuracy: 0.8705\n",
            "Epoch 4/20\n",
            "3750/3750 [==============================] - 34s 9ms/step - loss: 0.3254 - accuracy: 0.8801\n",
            "Epoch 5/20\n",
            "3750/3750 [==============================] - 34s 9ms/step - loss: 0.3003 - accuracy: 0.8881\n",
            "Epoch 6/20\n",
            "3750/3750 [==============================] - 34s 9ms/step - loss: 0.2808 - accuracy: 0.8958\n",
            "Epoch 7/20\n",
            "3750/3750 [==============================] - 34s 9ms/step - loss: 0.2644 - accuracy: 0.9001\n",
            "Epoch 8/20\n",
            "3750/3750 [==============================] - 34s 9ms/step - loss: 0.2568 - accuracy: 0.9051\n",
            "Epoch 9/20\n",
            "3750/3750 [==============================] - 34s 9ms/step - loss: 0.2428 - accuracy: 0.9080\n",
            "Epoch 10/20\n",
            "3750/3750 [==============================] - 34s 9ms/step - loss: 0.2242 - accuracy: 0.9163\n",
            "Epoch 11/20\n",
            "3750/3750 [==============================] - 35s 9ms/step - loss: 0.2169 - accuracy: 0.9189\n",
            "Epoch 12/20\n",
            "3750/3750 [==============================] - 34s 9ms/step - loss: 0.2076 - accuracy: 0.9197\n",
            "Epoch 13/20\n",
            "3750/3750 [==============================] - 34s 9ms/step - loss: 0.1953 - accuracy: 0.9276\n",
            "Epoch 14/20\n",
            "3750/3750 [==============================] - 34s 9ms/step - loss: 0.1882 - accuracy: 0.9297\n",
            "Epoch 15/20\n",
            "3750/3750 [==============================] - 34s 9ms/step - loss: 0.1842 - accuracy: 0.9310\n",
            "Epoch 16/20\n",
            "3750/3750 [==============================] - 34s 9ms/step - loss: 0.1780 - accuracy: 0.9342\n",
            "Epoch 17/20\n",
            "3750/3750 [==============================] - 34s 9ms/step - loss: 0.1642 - accuracy: 0.9382\n",
            "Epoch 18/20\n",
            "3750/3750 [==============================] - 34s 9ms/step - loss: 0.1597 - accuracy: 0.9397\n",
            "Epoch 19/20\n",
            "3750/3750 [==============================] - 35s 9ms/step - loss: 0.1531 - accuracy: 0.9422\n",
            "Epoch 20/20\n",
            "3750/3750 [==============================] - 35s 9ms/step - loss: 0.1484 - accuracy: 0.9440\n"
          ],
          "name": "stdout"
        },
        {
          "output_type": "execute_result",
          "data": {
            "text/plain": [
              "<tensorflow.python.keras.callbacks.History at 0x7f35f37f7780>"
            ]
          },
          "metadata": {
            "tags": []
          },
          "execution_count": 26
        }
      ]
    },
    {
      "cell_type": "code",
      "metadata": {
        "colab": {
          "base_uri": "https://localhost:8080/"
        },
        "id": "juu7T8R0RZfS",
        "outputId": "14952f58-6637-4ae2-8c9c-cf2ec95912f3"
      },
      "source": [
        "score = model.evaluate(X_test, Y_test, verbose=0)\r\n",
        "print('Test score:', score[0])\r\n",
        "print('Test accuracy:', score[1])"
      ],
      "execution_count": null,
      "outputs": [
        {
          "output_type": "stream",
          "text": [
            "Test score: 0.36863377690315247\n",
            "Test accuracy: 0.8845999836921692\n"
          ],
          "name": "stdout"
        }
      ]
    },
    {
      "cell_type": "markdown",
      "metadata": {
        "id": "2NsM5ZDFUdH7"
      },
      "source": [
        "Okay the first pass at tweaking the learning rate had similar results. I would be interested in comparing these results to a random forest or even logistic regression just to see how much better these models are. I would also like to try the Leaky ReLU and PReLU, which I haven't experimented with yet."
      ]
    }
  ]
}